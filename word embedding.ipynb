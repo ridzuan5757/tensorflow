{
 "cells": [
  {
   "cell_type": "markdown",
   "metadata": {},
   "source": [
    "## Word Embedding\n",
    "\n",
    "### Representing text as numbers\n",
    "\n",
    "Machine learning models take vectors as input. When working with text, the first thing that's need to be done is to come up with a strategy to convert strings to numbers (\"vectorizing\" the text) before feeding it to the model."
   ]
  },
  {
   "cell_type": "markdown",
   "metadata": {},
   "source": [
    "#### One-hot encodings\n",
    "\n",
    "Consider the sentence \"The cat sat on the mat\". The vocabulary (unique words) in this sentence is (cat, mat, on, sat, the). To represent each word, create a zero vector with length equal to the vocabulary, then place a one in the index that corresponds to the word.\n",
    "\n",
    "|     |    | cat | mat | on | sat | the |\n",
    "|-----|----|-----|-----|----|-----|-----|\n",
    "| the | => | 0   | 0   | 0  | 0   | 1   |\n",
    "| cat | => | 1   | 0   | 0  | 0   | 0   |\n",
    "| sat | => | 0   | 0   | 0  | 1   | 0   |\n",
    "| on  | => | 0   | 0   | 1  | 0   | 0   |\n",
    "| the | => | 0   | 0   | 0  | 0   | 1   |\n",
    "| mat | => | 0   | 1   | 0  | 0   | 0   |\n",
    "\n",
    "To create a vector that contains the encoding of the sentence, concatenate the one-hot vectors for each word.\n",
    "\n",
    "This approach is inefficient. A one-hot encoded vector is sparse (most indices are zero) which will add up the space complexity of the design."
   ]
  },
  {
   "cell_type": "markdown",
   "metadata": {},
   "source": [
    "#### Encode each word with a unique number\n",
    "\n",
    "A second approach would be using a unique number. The sentence \"The cat sat on the mat\" can be encoded as a dense vector like [5, 1, 4, 3, 5, 2]. This approach is efficient. However:\n",
    "- The integer-encoding is arbitrary (does not capture any relationship between words aka losing features)\n",
    "- An integer-encoding can be challenging model to interpret because there is no relationship between the similarity of any two words and the similarity of their encodings, this feature-weight combination is not meaningful."
   ]
  },
  {
   "cell_type": "markdown",
   "metadata": {},
   "source": [
    "### Word embeddings\n",
    "\n",
    "Word embeddings give us way to use an efficient, dense representation in which similar words have a similar encoding. Importantly, we do not have to specify this encoding by hand.\n",
    "An embedding is a dense vector of floating point values (the length of the vector is the parameter that will be specified). Instead of specifying the values for the embedding manually, they are trainable parameters (weigths learned by the model during training, in the same way a model learns weight for dense layer).\n",
    "It is common to see word embeddings that are 8 to 1024-dimensions. Ahigher dimensional embedding can capture fine-grained relationships between words, butake more data to learn."
   ]
  },
  {
   "cell_type": "code",
   "execution_count": 1,
   "metadata": {},
   "outputs": [],
   "source": [
    "from __future__ import absolute_import, division, print_function, unicode_literals\n",
    "\n",
    "import tensorflow as tf\n",
    "from tensorflow import keras\n",
    "from tensorflow.keras import layers\n",
    "\n",
    "import tensorflow_datasets as tfds\n",
    "tfds.disable_progress_bar()"
   ]
  },
  {
   "cell_type": "markdown",
   "metadata": {},
   "source": [
    "### Embedding layer\n",
    "\n",
    "Embedding layer can be understood as a lookup table that maps from integer indices (which represent specific words) to dense vectors (their embeddings). The dimensionality (width) of the embedding is a paramerter that can be experimented to see what works for the problem."
   ]
  },
  {
   "cell_type": "code",
   "execution_count": 2,
   "metadata": {},
   "outputs": [],
   "source": [
    "# largest integer/word index/vocabulary size in the input should \n",
    "# be no more than 999\n",
    "# embedding_layer.output_shape == (None, input_length, 5) where\n",
    "# None is the batch dimension\n",
    "embedding_layer = layers.Embedding(1000, 5)"
   ]
  },
  {
   "cell_type": "markdown",
   "metadata": {},
   "source": [
    "When embedding layer is created, the weight of the embedding are randomly initialized. During training, they are gradually adjusted via backpropagation. Once trained, the learned word embeddings will roughly encode similarities between words.\n",
    "\n",
    "If integer is passed to an embedding layer, the result replaces each integer with the vector from the embedding table as shown below."
   ]
  },
  {
   "cell_type": "code",
   "execution_count": 3,
   "metadata": {},
   "outputs": [
    {
     "name": "stdout",
     "output_type": "stream",
     "text": [
      "[[-0.02250582  0.02973874 -0.01462626  0.01839112 -0.019164  ]\n",
      " [ 0.04875505  0.04100648 -0.0094316  -0.01796307  0.0039238 ]\n",
      " [ 0.01429209  0.03127908 -0.03365175  0.00463424 -0.03576794]]\n"
     ]
    }
   ],
   "source": [
    "result = embedding_layer(tf.constant([1, 2, 3]))\n",
    "print(result.numpy())"
   ]
  },
  {
   "cell_type": "markdown",
   "metadata": {},
   "source": [
    "For text or sequence problems, the embedding layer takes a 2D tensor of integers, of shape ```(samples, sequence_length)``` where each entry is a sequence of integers. It can be embed sequences of variable lengths.\n",
    "\n",
    "WE could feed into the embedding layer above batches with shapes ```(32, 10)``` (batch of 32 with sequences of length 10) or ```(64, 15)``` (batch of 64 with sequence length of 15).\n",
    "\n",
    "The returned tensor has one more axis than the input, the embedding vectors are aligned along the new last axis."
   ]
  },
  {
   "cell_type": "code",
   "execution_count": 7,
   "metadata": {},
   "outputs": [
    {
     "name": "stdout",
     "output_type": "stream",
     "text": [
      "Tensor shape:  (2, 3)\n",
      "Result shape:  (2, 3, 5)\n"
     ]
    }
   ],
   "source": [
    "tensor = tf.constant([\n",
    "   [0, 1, 2],\n",
    "   [3, 4, 5]\n",
    "])\n",
    "\n",
    "print(\"Tensor shape: \", tensor.shape)\n",
    "\n",
    "result = embedding_layer(tensor)\n",
    "print(\"Result shape: \", result.shape)"
   ]
  },
  {
   "cell_type": "markdown",
   "metadata": {},
   "source": [
    "When given a batch of sequences as input, an embedding layer returns a 3D floating point tensor of shape ```(samples, sequence_length, embedding_dimensionality)```.\n",
    "To convert from this sequence of variable length to a fixed representation, there are variety of standard approaches. RNN, Attention or pooling layer could be used before passing it to a Dense layer. Pooling emthod will be used here."
   ]
  },
  {
   "cell_type": "markdown",
   "metadata": {},
   "source": [
    "### Learning embedding from scratch\n",
    "\n",
    "Train a sentiment classifier on IMDB movie reviews. In this process, the model will learn embeddings from scratch."
   ]
  },
  {
   "cell_type": "code",
   "execution_count": 8,
   "metadata": {},
   "outputs": [],
   "source": [
    "(train_data, test_data), info = tfds.load(\n",
    "   \"imdb_reviews/subwords8k\",\n",
    "   split = (tfds.Split.TRAIN, tfds.Split.TEST),\n",
    "   with_info = True,\n",
    "   as_supervised = True\n",
    ")"
   ]
  },
  {
   "cell_type": "markdown",
   "metadata": {},
   "source": [
    "Get encoder ```tfds.features.text.SubwordTextEncoder``` and have a quick look at the vocabulary.\n",
    "\n",
    "The \"\\_\" in the vocabulary represent spaces. Note how the vocabulary includes whole words (ending with \"\\_\") and partial words which it can use to build larger words:"
   ]
  },
  {
   "cell_type": "code",
   "execution_count": 9,
   "metadata": {},
   "outputs": [
    {
     "name": "stdout",
     "output_type": "stream",
     "text": [
      "['the_', ', ', '. ', 'a_', 'and_', 'of_', 'to_', 's_', 'is_', 'br', 'in_', 'I_', 'that_', 'this_', 'it_', ' /><', ' />', 'was_', 'The_', 'as_']\n"
     ]
    }
   ],
   "source": [
    "encoder = info.features[\"text\"].encoder\n",
    "print(encoder.subwords[:20])"
   ]
  },
  {
   "cell_type": "code",
   "execution_count": 31,
   "metadata": {},
   "outputs": [
    {
     "data": {
      "text/plain": [
       "tensorflow.python.data.ops.dataset_ops.DatasetV1Adapter"
      ]
     },
     "execution_count": 31,
     "metadata": {},
     "output_type": "execute_result"
    }
   ],
   "source": [
    "type(train_data)"
   ]
  },
  {
   "cell_type": "markdown",
   "metadata": {},
   "source": [
    "As each sentence can be different lengths, ```padded_batch``` method will be used to standardize the lengths of the reviews."
   ]
  },
  {
   "cell_type": "markdown",
   "metadata": {},
   "source": [
    "#### Changes from tf2 with tf_nightly\n",
    "\n",
    "```padded_batch``` require ```padded_shape``` positional arguments. As from ```tfds.load``` input argument ```as_supervised:False``` if ```True``` the returned ```tf.data.Dataset``` will have 2-tuple structure ```(input, label)``` according to ```builder.info.supervised_keys```. If ```False```, the default value, the returned ```tf.data.Dataset``` will have a dictionary with all the features."
   ]
  },
  {
   "cell_type": "code",
   "execution_count": 32,
   "metadata": {},
   "outputs": [],
   "source": [
    "train_batches = train_data.shuffle(1000).padded_batch(10, padded_shapes = ([None], []))\n",
    "test_batches = test_data.shuffle(1000).padded_batch(10, padded_shapes = ([None], []))"
   ]
  },
  {
   "cell_type": "markdown",
   "metadata": {},
   "source": [
    "As imported, the text of reviews is integer-encoded where each integer represents a specific word or word-part in the vocabulary. Note the trailing zeros, because the batch is padded to the longest example."
   ]
  },
  {
   "cell_type": "code",
   "execution_count": 35,
   "metadata": {},
   "outputs": [
    {
     "name": "stdout",
     "output_type": "stream",
     "text": [
      "[[  19 1059  903 ...    6 7895 7975]\n",
      " [ 433 4101  331 ...    0    0    0]\n",
      " [  12  393    1 ...    0    0    0]\n",
      " ...\n",
      " [8002 1383 3856 ...    0    0    0]\n",
      " [ 134   82 1133 ...    0    0    0]\n",
      " [  62    9    4 ...    0    0    0]]\n"
     ]
    }
   ],
   "source": [
    "train_batch, train_labels = next(iter(train_batches))\n",
    "print(train_batch.numpy())"
   ]
  },
  {
   "cell_type": "markdown",
   "metadata": {},
   "source": [
    "### Model - Continuous bag of words\n",
    "\n",
    "- Next the ```Embedding``` layer takes the interger-encoded vocabulary and looks up the embedding vector for each word-index. These vectors are learned as model trains. Vectors add a dimensio to the output array. The resulting dimensions are ```(batch, sequence, embedding)```\n",
    "- ```GlobalAveragePooling1D``` layer returns a fixed-length output vector for each example by averaging over the sequence dimension. This allos the model to handle input of variable length in the simplest way possible.\n",
    "- This fixed-length output vector is piped through a fully-connected ```Dense``` layer with 16 hidden units.\n",
    "- The last layer is densely connected with a single output node. Using the ```sigmoid``` activation function, this value is float between [0, 1] representing a probability/confidence level that the review is positive.\n",
    "\n",
    "This model doesn't use masking, so the zero-padding is used as part of the input, so the padding length may affect the output."
   ]
  },
  {
   "cell_type": "code",
   "execution_count": 37,
   "metadata": {},
   "outputs": [
    {
     "name": "stdout",
     "output_type": "stream",
     "text": [
      "Model: \"sequential\"\n",
      "_________________________________________________________________\n",
      "Layer (type)                 Output Shape              Param #   \n",
      "=================================================================\n",
      "embedding_2 (Embedding)      (None, None, 16)          130960    \n",
      "_________________________________________________________________\n",
      "global_average_pooling1d_1 ( (None, 16)                0         \n",
      "_________________________________________________________________\n",
      "dense (Dense)                (None, 16)                272       \n",
      "_________________________________________________________________\n",
      "dense_1 (Dense)              (None, 1)                 17        \n",
      "=================================================================\n",
      "Total params: 131,249\n",
      "Trainable params: 131,249\n",
      "Non-trainable params: 0\n",
      "_________________________________________________________________\n"
     ]
    }
   ],
   "source": [
    "embedding_dim = 16\n",
    "\n",
    "model = keras.Sequential([\n",
    "   layers.Embedding(encoder.vocab_size, embedding_dim),\n",
    "   layers.GlobalAveragePooling1D(),\n",
    "   layers.Dense(16, activation = \"relu\"),\n",
    "   layers.Dense(1)\n",
    "])\n",
    "\n",
    "model.summary()"
   ]
  },
  {
   "cell_type": "code",
   "execution_count": 38,
   "metadata": {},
   "outputs": [
    {
     "name": "stdout",
     "output_type": "stream",
     "text": [
      "Epoch 1/10\n",
      "2500/2500 [==============================] - 20s 8ms/step - loss: 0.5106 - accuracy: 0.6925 - val_loss: 0.3639 - val_accuracy: 0.8450\n",
      "Epoch 2/10\n",
      "2500/2500 [==============================] - 11s 4ms/step - loss: 0.2828 - accuracy: 0.8832 - val_loss: 0.4000 - val_accuracy: 0.8550\n",
      "Epoch 3/10\n",
      "2500/2500 [==============================] - 11s 5ms/step - loss: 0.2301 - accuracy: 0.9106 - val_loss: 0.3418 - val_accuracy: 0.8900\n",
      "Epoch 4/10\n",
      "2500/2500 [==============================] - 10s 4ms/step - loss: 0.1969 - accuracy: 0.9254 - val_loss: 0.5105 - val_accuracy: 0.8300\n",
      "Epoch 5/10\n",
      "2500/2500 [==============================] - 9s 4ms/step - loss: 0.1733 - accuracy: 0.9356 - val_loss: 0.3232 - val_accuracy: 0.8750\n",
      "Epoch 6/10\n",
      "2500/2500 [==============================] - 10s 4ms/step - loss: 0.1566 - accuracy: 0.9424 - val_loss: 0.2748 - val_accuracy: 0.9000\n",
      "Epoch 7/10\n",
      "2500/2500 [==============================] - 9s 4ms/step - loss: 0.1440 - accuracy: 0.9473 - val_loss: 0.3925 - val_accuracy: 0.8650\n",
      "Epoch 8/10\n",
      "2500/2500 [==============================] - 10s 4ms/step - loss: 0.1287 - accuracy: 0.9544 - val_loss: 0.4034 - val_accuracy: 0.8300\n",
      "Epoch 9/10\n",
      "2500/2500 [==============================] - 10s 4ms/step - loss: 0.1197 - accuracy: 0.9553 - val_loss: 0.5185 - val_accuracy: 0.8750\n",
      "Epoch 10/10\n",
      "2500/2500 [==============================] - 10s 4ms/step - loss: 0.1104 - accuracy: 0.9614 - val_loss: 0.7770 - val_accuracy: 0.8200\n"
     ]
    }
   ],
   "source": [
    "model.compile(\n",
    "   optimizer='adam',\n",
    "   loss=tf.keras.losses.BinaryCrossentropy(from_logits=True),\n",
    "   metrics=['accuracy'])\n",
    "\n",
    "history = model.fit(\n",
    "    train_batches,\n",
    "    epochs=10,\n",
    "    validation_data=test_batches, validation_steps=20)"
   ]
  },
  {
   "cell_type": "code",
   "execution_count": 39,
   "metadata": {},
   "outputs": [
    {
     "data": {
      "image/png": "[encoded data removed]",
      "text/plain": [
       "<Figure size 864x648 with 1 Axes>"
      ]
     },
     "metadata": {
      "needs_background": "light"
     },
     "output_type": "display_data"
    },
    {
     "data": {
      "image/png": "[encoded data removed]",
      "text/plain": [
       "<Figure size 864x648 with 1 Axes>"
      ]
     },
     "metadata": {
      "needs_background": "light"
     },
     "output_type": "display_data"
    }
   ],
   "source": [
    "import matplotlib.pyplot as plt\n",
    "\n",
    "history_dict = history.history\n",
    "\n",
    "acc = history_dict['accuracy']\n",
    "val_acc = history_dict['val_accuracy']\n",
    "loss=history_dict['loss']\n",
    "val_loss=history_dict['val_loss']\n",
    "\n",
    "epochs = range(1, len(acc) + 1)\n",
    "\n",
    "plt.figure(figsize=(12,9))\n",
    "plt.plot(epochs, loss, 'bo', label='Training loss')\n",
    "plt.plot(epochs, val_loss, 'b', label='Validation loss')\n",
    "plt.title('Training and validation loss')\n",
    "plt.xlabel('Epochs')\n",
    "plt.ylabel('Loss')\n",
    "plt.legend()\n",
    "plt.show()\n",
    "\n",
    "plt.figure(figsize=(12,9))\n",
    "plt.plot(epochs, acc, 'bo', label='Training acc')\n",
    "plt.plot(epochs, val_acc, 'b', label='Validation acc')\n",
    "plt.title('Training and validation accuracy')\n",
    "plt.xlabel('Epochs')\n",
    "plt.ylabel('Accuracy')\n",
    "plt.legend(loc='lower right')\n",
    "plt.ylim((0.5,1))\n",
    "plt.show()"
   ]
  },
  {
   "cell_type": "markdown",
   "metadata": {},
   "source": [
    "### Retrieve the learned embeddings\n",
    "\n",
    "The word embeddings learned during training will be a matrix of shape ```(vocab_size, imbedding-dimension)```"
   ]
  },
  {
   "cell_type": "code",
   "execution_count": 41,
   "metadata": {},
   "outputs": [
    {
     "name": "stdout",
     "output_type": "stream",
     "text": [
      "(8185, 16)\n"
     ]
    }
   ],
   "source": [
    "e = model.layers[0]\n",
    "weights = e.get_weights()[0]\n",
    "print(weights.shape)"
   ]
  },
  {
   "cell_type": "markdown",
   "metadata": {},
   "source": []
  }
 ],
 "metadata": {
  "kernelspec": {
   "display_name": "Python 3",
   "language": "python",
   "name": "python3"
  },
  "language_info": {
   "codemirror_mode": {
    "name": "ipython",
    "version": 3
   },
   "file_extension": ".py",
   "mimetype": "text/x-python",
   "name": "python",
   "nbconvert_exporter": "python",
   "pygments_lexer": "ipython3",
   "version": "3.6.8"
  }
 },
 "nbformat": 4,
 "nbformat_minor": 4
}
