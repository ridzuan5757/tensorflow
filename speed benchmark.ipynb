{
 "cells": [
  {
   "cell_type": "code",
   "execution_count": 1,
   "metadata": {},
   "outputs": [],
   "source": [
    "import glob\n",
    "import time\n",
    "import os\n",
    "import jpeg4py as jpeg\n",
    "from PIL import Image\n",
    "import struct\n",
    "import imghdr\n",
    "import skimage.io\n",
    "import imageio\n",
    "import cv2\n",
    "import shutil\n",
    "import numpy as np\n",
    "from io import BytesIO\n",
    "from turbojpeg import TurboJPEG, TJPF_GRAY, TJSAMP_GRAY, TJFLAG_PROGRESSIVE"
   ]
  },
  {
   "cell_type": "code",
   "execution_count": 2,
   "metadata": {},
   "outputs": [],
   "source": [
    "# graphwiz path variable\n",
    "os.environ[\"PATH\"] += os.pathsep + \"C:\\\\libjpeg-turbo-gcc64\\\\bin\\\\libturbojpeg.dll\""
   ]
  },
  {
   "cell_type": "code",
   "execution_count": 3,
   "metadata": {},
   "outputs": [
    {
     "data": {
      "text/plain": [
       "['d:\\\\jupyter_notebook\\\\virtualenv_keras\\\\keras\\\\lib\\\\site-packages\\\\pywin32_system32',\n",
       " 'd:\\\\jupyter_notebook\\\\virtualenv_keras\\\\keras\\\\lib\\\\site-packages\\\\pywin32_system32',\n",
       " 'd:\\\\jupyter_notebook\\\\virtualenv_keras\\\\keras\\\\lib\\\\site-packages\\\\pywin32_system32',\n",
       " 'D:\\\\jupyter_notebook\\\\virtualenv_keras\\\\keras\\\\Scripts',\n",
       " 'C:\\\\Users\\\\Ridzuan\\\\bin',\n",
       " 'C:\\\\Program Files\\\\Git\\\\mingw64\\\\bin',\n",
       " 'C:\\\\Program Files\\\\Git\\\\usr\\\\local\\\\bin',\n",
       " 'C:\\\\Program Files\\\\Git\\\\usr\\\\bin',\n",
       " 'C:\\\\Program Files\\\\Git\\\\usr\\\\bin',\n",
       " 'C:\\\\Program Files\\\\Git\\\\mingw64\\\\bin',\n",
       " 'C:\\\\Program Files\\\\Git\\\\usr\\\\bin',\n",
       " 'C:\\\\Users\\\\Ridzuan\\\\bin',\n",
       " 'C:\\\\Program Files (x86)\\\\NVIDIA Corporation\\\\PhysX\\\\Common',\n",
       " 'C:\\\\Program Files\\\\Python36\\\\Scripts',\n",
       " 'C:\\\\Program Files\\\\Python36',\n",
       " 'C:\\\\Program Files (x86)\\\\Python37-32\\\\Scripts',\n",
       " 'C:\\\\Program Files (x86)\\\\Python37-32',\n",
       " 'C:\\\\Python\\\\Python36\\\\Scripts',\n",
       " 'C:\\\\Python\\\\Python36',\n",
       " 'C:\\\\Python\\\\Python37-32\\\\Scripts',\n",
       " 'C:\\\\Python\\\\Python37-32',\n",
       " 'C:\\\\Program Files (x86)\\\\Razer Chroma SDK\\\\bin',\n",
       " 'C:\\\\Program Files\\\\Razer Chroma SDK\\\\bin',\n",
       " 'C:\\\\Windows\\\\system32',\n",
       " 'C:\\\\Windows',\n",
       " 'C:\\\\Windows\\\\System32\\\\Wbem',\n",
       " 'C:\\\\Windows\\\\System32\\\\WindowsPowerShell\\\\v1.0',\n",
       " 'C:\\\\Windows\\\\System32\\\\OpenSSH',\n",
       " 'C:\\\\Users\\\\Wan Fat\\\\AppData\\\\Local\\\\Microsoft\\\\WindowsApps',\n",
       " 'C:\\\\Program Files\\\\Microsoft SQL Server\\\\Client SDK\\\\ODBC\\\\110\\\\Tools\\\\Binn',\n",
       " 'C:\\\\Program Files (x86)\\\\Microsoft SQL Server\\\\120\\\\Tools\\\\Binn',\n",
       " 'C:\\\\Program Files\\\\Microsoft SQL Server\\\\120\\\\Tools\\\\Binn',\n",
       " 'C:\\\\Program Files\\\\Microsoft SQL Server\\\\120\\\\DTS\\\\Binn',\n",
       " 'C:\\\\Program Files (x86)\\\\Windows Kits\\\\8.1\\\\Windows Performance Toolkit',\n",
       " 'D:\\\\Program Files\\\\PuTTY',\n",
       " 'C:\\\\WINDOWS\\\\system32',\n",
       " 'C:\\\\WINDOWS',\n",
       " 'C:\\\\WINDOWS\\\\System32\\\\Wbem',\n",
       " 'C:\\\\WINDOWS\\\\System32\\\\WindowsPowerShell\\\\v1.0',\n",
       " 'C:\\\\WINDOWS\\\\System32\\\\OpenSSH',\n",
       " 'C:\\\\xampp\\\\php',\n",
       " 'C:\\\\Android\\\\flutter\\\\bin',\n",
       " 'C:\\\\Android\\\\sdk',\n",
       " 'C:\\\\Android\\\\sdk\\\\bin',\n",
       " 'C:\\\\Program Files\\\\nodejs',\n",
       " 'C:\\\\Program Files\\\\Git\\\\cmd',\n",
       " 'C:\\\\Program Files\\\\Docker\\\\Docker\\\\resources\\\\bin',\n",
       " 'C:\\\\ProgramData\\\\DockerDesktop\\\\version-bin',\n",
       " 'C:\\\\Program Files\\\\MiKTeX 2.9\\\\miktex\\\\bin\\\\x64',\n",
       " 'C:\\\\Program Files (x86)\\\\NVIDIA Corporation\\\\PhysX\\\\Common',\n",
       " 'C:\\\\Program Files\\\\Python36\\\\Scripts',\n",
       " 'C:\\\\Program Files\\\\Python36',\n",
       " 'C:\\\\Program Files (x86)\\\\Python37-32\\\\Scripts',\n",
       " 'C:\\\\Program Files (x86)\\\\Python37-32',\n",
       " 'C:\\\\Python\\\\Python36\\\\Scripts',\n",
       " 'C:\\\\Python\\\\Python36',\n",
       " 'C:\\\\Python\\\\Python37-32\\\\Scripts',\n",
       " 'C:\\\\Python\\\\Python37-32',\n",
       " 'C:\\\\Program Files (x86)\\\\Razer Chroma SDK\\\\bin',\n",
       " 'C:\\\\Program Files\\\\Razer Chroma SDK\\\\bin',\n",
       " 'C:\\\\Windows\\\\system32',\n",
       " 'C:\\\\Windows',\n",
       " 'C:\\\\Windows\\\\System32\\\\Wbem',\n",
       " 'C:\\\\Windows\\\\System32\\\\WindowsPowerShell\\\\v1.0',\n",
       " 'C:\\\\Windows\\\\System32\\\\OpenSSH',\n",
       " 'C:\\\\Users\\\\Wan Fat\\\\AppData\\\\Local\\\\Microsoft\\\\WindowsApps',\n",
       " 'C:\\\\Program Files\\\\Microsoft SQL Server\\\\Client SDK\\\\ODBC\\\\110\\\\Tools\\\\Binn',\n",
       " 'C:\\\\Program Files (x86)\\\\Microsoft SQL Server\\\\120\\\\Tools\\\\Binn',\n",
       " 'C:\\\\Program Files\\\\Microsoft SQL Server\\\\120\\\\Tools\\\\Binn',\n",
       " 'C:\\\\Program Files\\\\Microsoft SQL Server\\\\120\\\\DTS\\\\Binn',\n",
       " 'C:\\\\Program Files (x86)\\\\Windows Kits\\\\8.1\\\\Windows Performance Toolkit',\n",
       " 'D:\\\\Program Files\\\\PuTTY',\n",
       " 'C:\\\\WINDOWS\\\\system32',\n",
       " 'C:\\\\WINDOWS',\n",
       " 'C:\\\\WINDOWS\\\\System32\\\\Wbem',\n",
       " 'C:\\\\WINDOWS\\\\System32\\\\WindowsPowerShell\\\\v1.0',\n",
       " 'C:\\\\WINDOWS\\\\System32\\\\OpenSSH',\n",
       " 'C:\\\\Android\\\\sdk',\n",
       " 'C:\\\\Android\\\\sdk\\\\bin',\n",
       " 'C:\\\\Android\\\\flutter\\\\bin',\n",
       " 'C:\\\\Users\\\\Ridzuan\\\\AppData\\\\Roaming\\\\npm',\n",
       " 'C:\\\\Users\\\\Ridzuan\\\\AppData\\\\Local\\\\hyper\\\\app-3.0.2\\\\resources\\\\bin',\n",
       " 'C:\\\\Users\\\\Ridzuan\\\\AppData\\\\Local\\\\hyper\\\\Hyper.exe',\n",
       " 'C:\\\\Program Files\\\\Git\\\\usr\\\\bin\\\\vendor_perl',\n",
       " 'C:\\\\Program Files\\\\Git\\\\usr\\\\bin\\\\core_perl',\n",
       " 'd:\\\\jupyter_notebook\\\\virtualenv_keras\\\\keras\\\\lib\\\\site-packages\\\\numpy\\\\.libs',\n",
       " 'd:\\\\jupyter_notebook\\\\virtualenv_keras\\\\keras\\\\lib\\\\site-packages\\\\scipy\\\\.libs',\n",
       " 'd:\\\\jupyter_notebook\\\\virtualenv_keras\\\\keras\\\\lib\\\\site-packages\\\\numpy\\\\.libs',\n",
       " 'd:\\\\jupyter_notebook\\\\virtualenv_keras\\\\keras\\\\lib\\\\site-packages\\\\scipy\\\\.libs',\n",
       " 'C:\\\\libjpeg-turbo-gcc64\\\\bin\\\\libturbojpeg.dll']"
      ]
     },
     "execution_count": 3,
     "metadata": {},
     "output_type": "execute_result"
    }
   ],
   "source": [
    "os.environ[\"path\"].split(os.pathsep)"
   ]
  },
  {
   "cell_type": "code",
   "execution_count": 2,
   "metadata": {},
   "outputs": [
    {
     "data": {
      "text/plain": [
       "196086"
      ]
     },
     "execution_count": 2,
     "metadata": {},
     "output_type": "execute_result"
    }
   ],
   "source": [
    "INPUT_PATH_PNG = \"../datasets/iwildcam-2019-fgvc6/train_images/\"\n",
    "files_png_init = sorted(glob.glob(INPUT_PATH_PNG + '*.jpg'))\n",
    "len(files_png_init)"
   ]
  },
  {
   "cell_type": "code",
   "execution_count": 28,
   "metadata": {},
   "outputs": [
    {
     "data": {
      "text/plain": [
       "'../datasets/iwildcam-2019-fgvc6/train_images\\\\5858bf1e-23d2-11e8-a6a3-ec086b02610b.jpg'"
      ]
     },
     "execution_count": 28,
     "metadata": {},
     "output_type": "execute_result"
    }
   ],
   "source": [
    "files_png_init[0]"
   ]
  },
  {
   "cell_type": "code",
   "execution_count": 9,
   "metadata": {},
   "outputs": [
    {
     "name": "stdout",
     "output_type": "stream",
     "text": [
      "Time to read 10000 JPEGs small for libjpeg-turbo (jpeg4py): 856.41 sec\n"
     ]
    }
   ],
   "source": [
    "start_time = time.time()\n",
    "d = []\n",
    "for f in files_png_init[0:10000]:\n",
    "    a = jpeg.JPEG(f).decode()\n",
    "    d.append(a)\n",
    "print('Time to read {} JPEGs small for libjpeg-turbo (jpeg4py): {:.2f} sec'.format(len(files_png_init[0:10000]), time.time() - start_time))"
   ]
  },
  {
   "cell_type": "code",
   "execution_count": 19,
   "metadata": {},
   "outputs": [],
   "source": [
    "x = TurboJPEG(\"C:\\\\libjpeg-turbo-gcc64\\\\bin\\\\libturbojpeg.dll\")"
   ]
  },
  {
   "cell_type": "code",
   "execution_count": 42,
   "metadata": {},
   "outputs": [
    {
     "name": "stdout",
     "output_type": "stream",
     "text": [
      "0.15199851989746094\n"
     ]
    },
    {
     "data": {
      "text/plain": [
       "<tf.Tensor: shape=(747, 1024, 3), dtype=uint8, numpy=\n",
       "array([[[  0,   0,   0],\n",
       "        [  0,   0,   0],\n",
       "        [  0,   0,   0],\n",
       "        ...,\n",
       "        [  0,   0,   0],\n",
       "        [  0,   0,   0],\n",
       "        [  0,   0,   0]],\n",
       "\n",
       "       [[  0,   0,   0],\n",
       "        [  0,   0,   0],\n",
       "        [  0,   0,   0],\n",
       "        ...,\n",
       "        [  0,   0,   0],\n",
       "        [  0,   0,   0],\n",
       "        [  0,   0,   0]],\n",
       "\n",
       "       [[  0,   0,   0],\n",
       "        [  0,   0,   0],\n",
       "        [  0,   0,   0],\n",
       "        ...,\n",
       "        [  0,   0,   0],\n",
       "        [  0,   0,   0],\n",
       "        [  0,   0,   0]],\n",
       "\n",
       "       ...,\n",
       "\n",
       "       [[129, 110,  68],\n",
       "        [158, 139,  96],\n",
       "        [156, 137,  94],\n",
       "        ...,\n",
       "        [100,  93,  49],\n",
       "        [ 91, 104,  50],\n",
       "        [ 90, 111,  52]],\n",
       "\n",
       "       [[143, 123,  73],\n",
       "        [173, 153, 102],\n",
       "        [172, 150, 100],\n",
       "        ...,\n",
       "        [139, 133,  85],\n",
       "        [133, 147,  86],\n",
       "        [132, 154,  89]],\n",
       "\n",
       "       [[160, 139,  84],\n",
       "        [188, 167, 110],\n",
       "        [184, 162, 105],\n",
       "        ...,\n",
       "        [139, 132,  88],\n",
       "        [130, 143,  87],\n",
       "        [127, 149,  87]]], dtype=uint8)>"
      ]
     },
     "execution_count": 42,
     "metadata": {},
     "output_type": "execute_result"
    }
   ],
   "source": [
    "start_time_1 = time.time()\n",
    "for i in range(30):\n",
    "   image = jpeg.JPEG(files_png_init[0]).decode()\n",
    "   image = tf.constant(image)\n",
    "print(time.time() - start_time_1)\n",
    "image"
   ]
  },
  {
   "cell_type": "code",
   "execution_count": 41,
   "metadata": {},
   "outputs": [
    {
     "name": "stdout",
     "output_type": "stream",
     "text": [
      "1.0640640258789062\n"
     ]
    },
    {
     "data": {
      "text/plain": [
       "<tf.Tensor: shape=(747, 1024, 3), dtype=uint8, numpy=\n",
       "array([[[ 0,  0,  0],\n",
       "        [ 0,  0,  0],\n",
       "        [ 0,  0,  0],\n",
       "        ...,\n",
       "        [ 0,  0,  0],\n",
       "        [ 0,  0,  0],\n",
       "        [ 0,  0,  0]],\n",
       "\n",
       "       [[ 0,  0,  0],\n",
       "        [ 0,  0,  0],\n",
       "        [ 0,  0,  0],\n",
       "        ...,\n",
       "        [ 0,  0,  0],\n",
       "        [ 0,  0,  0],\n",
       "        [ 0,  0,  0]],\n",
       "\n",
       "       [[ 0,  0,  0],\n",
       "        [ 0,  0,  0],\n",
       "        [ 0,  0,  0],\n",
       "        ...,\n",
       "        [ 0,  0,  0],\n",
       "        [ 0,  0,  0],\n",
       "        [ 0,  0,  0]],\n",
       "\n",
       "       ...,\n",
       "\n",
       "       [[19, 29, 18],\n",
       "        [18, 28, 17],\n",
       "        [19, 29, 18],\n",
       "        ...,\n",
       "        [31, 46, 43],\n",
       "        [30, 47, 41],\n",
       "        [30, 47, 41]],\n",
       "\n",
       "       [[20, 30, 19],\n",
       "        [19, 29, 18],\n",
       "        [20, 30, 19],\n",
       "        ...,\n",
       "        [31, 46, 43],\n",
       "        [30, 47, 41],\n",
       "        [30, 47, 41]],\n",
       "\n",
       "       [[21, 31, 20],\n",
       "        [21, 31, 20],\n",
       "        [21, 31, 20],\n",
       "        ...,\n",
       "        [31, 46, 43],\n",
       "        [30, 47, 41],\n",
       "        [30, 47, 41]]], dtype=uint8)>"
      ]
     },
     "execution_count": 41,
     "metadata": {},
     "output_type": "execute_result"
    }
   ],
   "source": [
    "import tensorflow as tf\n",
    "\n",
    "start_time_2 = time.time()\n",
    "for i in range(30):\n",
    "   image = tf.image.decode_jpeg(tf.io.read_file(files_png_init[i]), channels = 3)\n",
    "print(time.time()-start_time_2)\n",
    "image"
   ]
  },
  {
   "cell_type": "code",
   "execution_count": null,
   "metadata": {},
   "outputs": [],
   "source": []
  }
 ],
 "metadata": {
  "kernelspec": {
   "display_name": "Python 3",
   "language": "python",
   "name": "python3"
  },
  "language_info": {
   "codemirror_mode": {
    "name": "ipython",
    "version": 3
   },
   "file_extension": ".py",
   "mimetype": "text/x-python",
   "name": "python",
   "nbconvert_exporter": "python",
   "pygments_lexer": "ipython3",
   "version": "3.6.8"
  }
 },
 "nbformat": 4,
 "nbformat_minor": 4
}
